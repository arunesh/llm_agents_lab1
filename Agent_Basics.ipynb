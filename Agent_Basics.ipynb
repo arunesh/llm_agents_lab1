{
 "cells": [
  {
   "cell_type": "markdown",
   "id": "88dede7f-51d4-42ed-a28a-3946ca3630e5",
   "metadata": {},
   "source": [
    "# Basics of Agents\n",
    "We shall look at the basics of the Chat Completions API and prompting which are the underpinnings of \n",
    "Agentic operations such as tool calls."
   ]
  },
  {
   "cell_type": "code",
   "execution_count": null,
   "id": "15e0e0d7-5c4d-48ca-8427-ef8d5e4e1a3d",
   "metadata": {},
   "outputs": [],
   "source": [
    "import os\n",
    "from dotenv import load_dotenv"
   ]
  },
  {
   "cell_type": "code",
   "execution_count": 4,
   "id": "1d5edcaf-73b8-4d8c-8f43-19905a836933",
   "metadata": {},
   "outputs": [
    {
     "data": {
      "text/plain": [
       "True"
      ]
     },
     "execution_count": 4,
     "metadata": {},
     "output_type": "execute_result"
    }
   ],
   "source": [
    "load_dotenv()"
   ]
  },
  {
   "cell_type": "code",
   "execution_count": 5,
   "id": "045c82ad-3944-4bff-904f-f065b307ce95",
   "metadata": {},
   "outputs": [
    {
     "name": "stdout",
     "output_type": "stream",
     "text": [
      "ChatCompletionMessage(content=\"Sure, here's one for you:\\n\\nWhy don’t skeletons fight each other? \\n\\nThey don’t have the guts!\", refusal=None, role='assistant', function_call=None, tool_calls=None)\n"
     ]
    }
   ],
   "source": [
    "from openai import OpenAI\n",
    "client = OpenAI()\n",
    "\n",
    "# https://platform.openai.com/docs/api-reference/chat/create\n",
    "\n",
    "completion = client.chat.completions.create(\n",
    "    model=\"gpt-4o\",\n",
    "    messages=[\n",
    "        {\"role\": \"system\", \"content\": \"Your name is Cathy and you are a part of a duo of comedians.\"},\n",
    "        {\n",
    "            \"role\": \"user\",\n",
    "            \"name\": \"Joe\",\n",
    "            \"content\": \"Tell me a joke !\"\n",
    "        }\n",
    "    ]\n",
    ")\n",
    "\n",
    "print(completion.choices[0].message)"
   ]
  },
  {
   "cell_type": "code",
   "execution_count": 6,
   "id": "59effaf3-e5ba-40d3-9cd7-e47871289c45",
   "metadata": {},
   "outputs": [
    {
     "name": "stdout",
     "output_type": "stream",
     "text": [
      "Sure, here's one for you:\n",
      "\n",
      "Why don’t skeletons fight each other? \n",
      "\n",
      "They don’t have the guts!\n"
     ]
    }
   ],
   "source": [
    "print(completion.choices[0].message.content)"
   ]
  },
  {
   "cell_type": "code",
   "execution_count": null,
   "id": "20eb336e-eee2-470c-bd57-cfad03fa7db1",
   "metadata": {},
   "outputs": [],
   "source": [
    "import agentops\n",
    "\n",
    "from autogen import ConversableAgent"
   ]
  },
  {
   "cell_type": "code",
   "execution_count": null,
   "id": "a2e48921-8a0d-4747-a5df-6066ed4c14bc",
   "metadata": {},
   "outputs": [],
   "source": [
    "gentops.init(api_key=\"16947674-224c-4d71-a7cd-6c29326079be\")\n",
    "langfuse = Langfuse()\n",
    "cathy = ConversableAgent(\n",
    "    \"cathy\",\n",
    "    system_message=\"Your name is Cathy and you are a part of a duo of comedians.\",\n",
    "    llm_config={\"config_list\": [{\"model\": \"gpt-4\", \"temperature\": 0.9, \"api_key\": os.environ.get(\"OPENAI_API_KEY\")}]},\n",
    "    human_input_mode=\"NEVER\",  # Never ask for human input.\n",
    ")\n",
    "\n",
    "joe = ConversableAgent(\n",
    "    \"joe\",\n",
    "    system_message=\"Your name is Joe and you are a part of a duo of comedians.\",\n",
    "    llm_config={\"config_list\": [{\"model\": \"gpt-4\", \"temperature\": 0.7, \"api_key\": os.environ.get(\"OPENAI_API_KEY\")}]},\n",
    "    human_input_mode=\"NEVER\",  # Never ask for human input.\n",
    ")"
   ]
  },
  {
   "cell_type": "code",
   "execution_count": null,
   "id": "8ea9227b-6dbd-4ba4-8fc0-77b9ab25bfc0",
   "metadata": {},
   "outputs": [],
   "source": []
  }
 ],
 "metadata": {
  "kernelspec": {
   "display_name": "Python 3 (ipykernel)",
   "language": "python",
   "name": "python3"
  },
  "language_info": {
   "codemirror_mode": {
    "name": "ipython",
    "version": 3
   },
   "file_extension": ".py",
   "mimetype": "text/x-python",
   "name": "python",
   "nbconvert_exporter": "python",
   "pygments_lexer": "ipython3",
   "version": "3.11.1"
  }
 },
 "nbformat": 4,
 "nbformat_minor": 5
}
