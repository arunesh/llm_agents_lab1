{
 "cells": [
  {
   "cell_type": "markdown",
   "id": "88dede7f-51d4-42ed-a28a-3946ca3630e5",
   "metadata": {},
   "source": [
    "# Basics of Agents\n",
    "We shall look at the basics of the Chat Completions API and prompting which are the underpinnings of \n",
    "Agentic operations such as tool calls."
   ]
  },
  {
   "cell_type": "code",
   "execution_count": null,
   "id": "15e0e0d7-5c4d-48ca-8427-ef8d5e4e1a3d",
   "metadata": {},
   "outputs": [],
   "source": [
    "import os\n",
    "from dotenv import load_dotenv"
   ]
  },
  {
   "cell_type": "code",
   "execution_count": 4,
   "id": "1d5edcaf-73b8-4d8c-8f43-19905a836933",
   "metadata": {},
   "outputs": [
    {
     "data": {
      "text/plain": [
       "True"
      ]
     },
     "execution_count": 4,
     "metadata": {},
     "output_type": "execute_result"
    }
   ],
   "source": [
    "load_dotenv()"
   ]
  },
  {
   "cell_type": "code",
   "execution_count": 110,
   "id": "045c82ad-3944-4bff-904f-f065b307ce95",
   "metadata": {},
   "outputs": [
    {
     "name": "stdout",
     "output_type": "stream",
     "text": [
      "ChatCompletionMessage(content='fetch_review(restaurant_name=\"Starbucks\")', refusal=None, role='assistant', function_call=None, tool_calls=None)\n"
     ]
    }
   ],
   "source": [
    "from openai import OpenAI\n",
    "client = OpenAI()\n",
    "\n",
    "# https://platform.openai.com/docs/api-reference/chat/create\n",
    "\n",
    "TEST_PROMPT = \"\"\"\n",
    "You are an helpful AI Assistant, with the ability to fetch restaurants and answer questions based on provided restaurant\n",
    "reviews. Use the tool calling to fetch reviews for a given restaurant requested by the user.\n",
    "When the reviews are given as a list, copy them to the output for the next AI assistant to work on. Do not summarize.\n",
    "\n",
    "Tool Call: fetch_review(restaurant_name) where restaurant_name is the name of the restaurant. Do not output anything else.\n",
    "\"\"\"\n",
    "\n",
    "\n",
    "completion = client.chat.completions.create(\n",
    "    model=\"gpt-4o\",\n",
    "    messages=[\n",
    "        {\"role\": \"system\", \"content\": TEST_PROMPT},\n",
    "        {\n",
    "            \"role\": \"user\",\n",
    "            \"name\": \"Joe\",\n",
    "            \"content\": \"Fetch reviews for Starbucks.\"\n",
    "        }\n",
    "    ]\n",
    ")\n",
    "\n",
    "print(completion.choices[0].message)"
   ]
  },
  {
   "cell_type": "code",
   "execution_count": 111,
   "id": "59effaf3-e5ba-40d3-9cd7-e47871289c45",
   "metadata": {},
   "outputs": [
    {
     "name": "stdout",
     "output_type": "stream",
     "text": [
      "fetch_review(restaurant_name=\"Starbucks\")\n"
     ]
    }
   ],
   "source": [
    "print(completion.choices[0].message.content)"
   ]
  },
  {
   "cell_type": "code",
   "execution_count": 94,
   "id": "20eb336e-eee2-470c-bd57-cfad03fa7db1",
   "metadata": {},
   "outputs": [],
   "source": [
    "import agentops\n",
    "\n",
    "from autogen import ConversableAgent"
   ]
  },
  {
   "cell_type": "code",
   "execution_count": 95,
   "id": "a2e48921-8a0d-4747-a5df-6066ed4c14bc",
   "metadata": {},
   "outputs": [
    {
     "name": "stderr",
     "output_type": "stream",
     "text": [
      "🖇 AgentOps: AgentOps has already been initialized. If you are trying to start a session, call agentops.start_session() instead.\n"
     ]
    }
   ],
   "source": [
    "agentops.init(os.environ.get(\"AGENTOPS_API_KEY\"))\n",
    "\n",
    "# Microsoft Autogen: ConversableAgent: https://microsoft.github.io/autogen/0.2/docs/tutorial/introduction/\n",
    "cathy = ConversableAgent(\n",
    "    \"cathy\",\n",
    "    system_message=\"Your name is Cathy and you are a part of a duo of comedians.\",\n",
    "    llm_config={\"config_list\": [{\"model\": \"gpt-4\", \"temperature\": 0.9, \"api_key\": os.environ.get(\"OPENAI_API_KEY\")}]},\n",
    "    human_input_mode=\"NEVER\",  # Never ask for human input.\n",
    ")\n",
    "\n",
    "joe = ConversableAgent(\n",
    "    \"joe\",\n",
    "    system_message=\"Your name is Joe and you are a part of a duo of comedians.\",\n",
    "    llm_config={\"config_list\": [{\"model\": \"gpt-4\", \"temperature\": 0.7, \"api_key\": os.environ.get(\"OPENAI_API_KEY\")}]},\n",
    "    human_input_mode=\"NEVER\",  # Never ask for human input.\n",
    ")"
   ]
  },
  {
   "cell_type": "code",
   "execution_count": 96,
   "id": "cb22742d-9ef6-4123-a88f-00731a611436",
   "metadata": {},
   "outputs": [
    {
     "name": "stdout",
     "output_type": "stream",
     "text": [
      "\u001b[33mjoe\u001b[0m (to cathy):\n",
      "\n",
      "Tell me a joke\n",
      "\n",
      "--------------------------------------------------------------------------------\n",
      "\u001b[33mcathy\u001b[0m (to joe):\n",
      "\n",
      "Sure, here's one: \n",
      "\n",
      "Why don't we ever tell secrets on a farm?\n",
      "\n",
      "Because the potatoes have eyes, the corn has ears, and the beans stalk!\n",
      "\n",
      "--------------------------------------------------------------------------------\n",
      "\u001b[33mjoe\u001b[0m (to cathy):\n",
      "\n",
      "Good one, Cathy! Here's another one for you:\n",
      "\n",
      "Why don’t scientists trust atoms?\n",
      "\n",
      "Because they make up everything!\n",
      "\n",
      "--------------------------------------------------------------------------------\n",
      "\u001b[33mcathy\u001b[0m (to joe):\n",
      "\n",
      "Oh, Joe, that's a good one! A little science humor. Here's another chemistry joke for you:\n",
      "\n",
      "Why can't you trust an atom that's been split?\n",
      "\n",
      "Because it's gone fission!\n",
      "\n",
      "--------------------------------------------------------------------------------\n"
     ]
    }
   ],
   "source": [
    "chat_result = joe.initiate_chat(cathy, message=\"Tell me a joke\", max_turns=2)"
   ]
  },
  {
   "cell_type": "code",
   "execution_count": 53,
   "id": "8ea9227b-6dbd-4ba4-8fc0-77b9ab25bfc0",
   "metadata": {},
   "outputs": [],
   "source": [
    "from typing import Annotated, Literal\n",
    "from typing import Dict\n",
    "from typing import List\n",
    "restaurant_datafile=\"restaurant-data.txt\"\n",
    "\n",
    "\n",
    "def load_restaurant_reviews() -> Dict[str, List[str]]:\n",
    "    restaurant_map :Dict[str, List[str]] = {}\n",
    "    with open(restaurant_datafile) as file:\n",
    "        for line in file:\n",
    "            # print(line)\n",
    "            splits = line.split(\".\")\n",
    "             # Use setdefault to ensure the key has a list, then append the value\n",
    "            restaurant_map.setdefault(splits[0], []).append(splits[1])\n",
    "    # Iterate through the dictionary\n",
    "    # for key, value in restaurant_map.items():\n",
    "    #    print(f\"Key: {key}, Value: {value}\")\n",
    "    return restaurant_map\n",
    "    \n",
    "def fetch_restaurant_reviews(restaurant_name: Annotated[str, \"restaurant name\"]) -> Dict[str, List[str]]:\n",
    "    reviews = load_restaurant_reviews()\n",
    "    return {restaurant_name: reviews[restaurant_name]}"
   ]
  },
  {
   "cell_type": "code",
   "execution_count": 54,
   "id": "07eb2c09-b798-4b44-8db0-df783978530e",
   "metadata": {},
   "outputs": [
    {
     "data": {
      "text/plain": [
       "{'Starbucks': [' Starbucks consistently serves good coffee and tasty pastries',\n",
       "  ' The coffee was good and consistently prepared',\n",
       "  ' Starbucks consistently delivers good coffee and pastries',\n",
       "  ' Starbucks consistently serves good coffee and tasty pastries',\n",
       "  ' Both the food and service at Starbucks were great',\n",
       "  ' Starbucks consistently serves good coffee and tasty snacks',\n",
       "  ' Starbucks consistently delivers good coffee and pastries',\n",
       "  ' Starbucks offers good coffee and a variety of enjoyable snacks',\n",
       "  ' Starbucks consistently delivers good coffee and snacks',\n",
       "  ' Starbucks provided good quality coffee and pastries',\n",
       "  ' Starbucks consistently serves enjoyable coffee and pastries',\n",
       "  ' Starbucks consistently serves good coffee and pastries',\n",
       "  ' Starbucks consistently serves good coffee and snacks',\n",
       "  ' Starbucks provided good quality coffee and tasty snacks',\n",
       "  ' Starbucks provided a satisfying coffee experience with good pastries',\n",
       "  ' Starbucks consistently delivers good coffee and pastries',\n",
       "  ' The coffee was good, consistently brewed to perfection',\n",
       "  ' The coffee was good and consistently prepared',\n",
       "  ' Starbucks consistently serves good coffee and pastries',\n",
       "  ' Starbucks provided good, reliable coffee and pastries',\n",
       "  ' Starbucks consistently serves good coffee and pastries',\n",
       "  \" Starbucks' beverages were satisfying, with consistently good coffee and seasonal specials\",\n",
       "  ' The coffee and pastries at Starbucks were good, consistently meeting expectations',\n",
       "  ' Starbucks consistently provides good coffee and tasty snacks',\n",
       "  ' Starbucks consistently serves enjoyable coffee and pastries',\n",
       "  ' Starbucks consistently serves good coffee and tasty snacks',\n",
       "  ' Starbucks consistently serves good coffee and pastries',\n",
       "  ' Starbucks offered good coffee and tasty snacks',\n",
       "  ' Starbucks consistently serves good coffee and pastries',\n",
       "  ' Starbucks consistently serves good coffee and snacks',\n",
       "  ' Starbucks provided a satisfying selection of coffee and pastries',\n",
       "  ' Starbucks consistently serves good coffee and tasty pastries',\n",
       "  ' Starbucks consistently serves good coffee and pastries',\n",
       "  ' Starbucks offers good coffee and a variety of enjoyable pastries',\n",
       "  ' Starbucks consistently serves good coffee and pastries',\n",
       "  ' Starbucks consistently serves good coffee and tasty snacks',\n",
       "  ' Starbucks provided good coffee and snacks with consistent quality',\n",
       "  ' Starbucks provides a consistently good coffee experience with a variety of options',\n",
       "  ' Starbucks offered good quality coffee and pastries',\n",
       "  \" Starbucks' food options were average, with pre-packaged sandwiches and pastries\"]}"
      ]
     },
     "execution_count": 54,
     "metadata": {},
     "output_type": "execute_result"
    }
   ],
   "source": [
    "fetch_restaurant_reviews(\"Starbucks\")"
   ]
  },
  {
   "cell_type": "code",
   "execution_count": 112,
   "id": "09dd91b7-1fc0-46ae-be92-6a0c6c923c5d",
   "metadata": {},
   "outputs": [],
   "source": [
    "ENTRYPOINT_AGENT_PROMPT = \"\"\"\n",
    "You are an helpful AI Assistant, with the ability to fetch restaurants and answer questions based on provided restaurant\n",
    "reviews. Use the tool calling to fetch reviews for a given restaurant requested by the user.\n",
    "When the reviews are given as a list, copy them to the output for the next AI assistant to work on. Do not summarize.\n",
    "\"\"\"\n",
    "\n",
    "restaurant_review_agent = ConversableAgent(\"Restaurant Review agent\",\n",
    "    system_message=ENTRYPOINT_AGENT_PROMPT,\n",
    "    llm_config={\"config_list\": [{\"model\": \"gpt-4\", \"temperature\": 0.9, \"api_key\": os.environ.get(\"OPENAI_API_KEY\")}]},\n",
    "    human_input_mode=\"NEVER\",  # Never ask for human input.\n",
    ")\n",
    "\n",
    "\n",
    "# The user proxy agent is used for interacting with the assistant agent\n",
    "# and executes tool calls.\n",
    "user_proxy = ConversableAgent(\n",
    "    name=\"User\",\n",
    "    llm_config=False,\n",
    "    is_termination_msg=lambda msg: msg.get(\"content\") is not None and \"TERMINATE\" in msg[\"content\"],\n",
    "    human_input_mode=\"NEVER\",\n",
    ")\n",
    "\n"
   ]
  },
  {
   "cell_type": "code",
   "execution_count": 113,
   "id": "42928f7b-373d-4488-98c0-dcb90706f925",
   "metadata": {},
   "outputs": [
    {
     "data": {
      "text/plain": [
       "<function __main__.fetch_restaurant_reviews(restaurant_name: typing.Annotated[str, 'restaurant name']) -> Dict[str, List[str]]>"
      ]
     },
     "execution_count": 113,
     "metadata": {},
     "output_type": "execute_result"
    }
   ],
   "source": [
    "# Tool use: https://microsoft.github.io/autogen/0.2/docs/tutorial/tool-use/\n",
    "# Register the tool signature with the assistant agent.\n",
    "restaurant_review_agent.register_for_llm(name=\"fetch_restaurant_reviews\",\n",
    "                                         description=\"Fetch reviews for a given restaurant name.\")(fetch_restaurant_reviews)\n",
    "\n",
    "# Register the tool function with the user proxy agent.\n",
    "user_proxy.register_for_execution(name=\"fetch_restaurant_reviews\")(fetch_restaurant_reviews)"
   ]
  },
  {
   "cell_type": "code",
   "execution_count": 114,
   "id": "478f0892-194b-4325-822d-6628d6610b69",
   "metadata": {},
   "outputs": [
    {
     "name": "stdout",
     "output_type": "stream",
     "text": [
      "\u001b[33mUser\u001b[0m (to Restaurant Review agent):\n",
      "\n",
      "Fetch reviews for Starbucks.\n",
      "\n",
      "--------------------------------------------------------------------------------\n",
      "\u001b[33mRestaurant Review agent\u001b[0m (to User):\n",
      "\n",
      "\u001b[32m***** Suggested tool call (call_Ki1uZvKMKpy2cjZAXaXQimih): fetch_restaurant_reviews *****\u001b[0m\n",
      "Arguments: \n",
      "{\n",
      "  \"restaurant_name\": \"Starbucks\"\n",
      "}\n",
      "\u001b[32m*****************************************************************************************\u001b[0m\n",
      "\n",
      "--------------------------------------------------------------------------------\n",
      "\u001b[35m\n",
      ">>>>>>>> EXECUTING FUNCTION fetch_restaurant_reviews...\u001b[0m\n",
      "\u001b[33mUser\u001b[0m (to Restaurant Review agent):\n",
      "\n",
      "\u001b[33mUser\u001b[0m (to Restaurant Review agent):\n",
      "\n",
      "\u001b[32m***** Response from calling tool (call_Ki1uZvKMKpy2cjZAXaXQimih) *****\u001b[0m\n",
      "{\"Starbucks\": [\" Starbucks consistently serves good coffee and tasty pastries\", \" The coffee was good and consistently prepared\", \" Starbucks consistently delivers good coffee and pastries\", \" Starbucks consistently serves good coffee and tasty pastries\", \" Both the food and service at Starbucks were great\", \" Starbucks consistently serves good coffee and tasty snacks\", \" Starbucks consistently delivers good coffee and pastries\", \" Starbucks offers good coffee and a variety of enjoyable snacks\", \" Starbucks consistently delivers good coffee and snacks\", \" Starbucks provided good quality coffee and pastries\", \" Starbucks consistently serves enjoyable coffee and pastries\", \" Starbucks consistently serves good coffee and pastries\", \" Starbucks consistently serves good coffee and snacks\", \" Starbucks provided good quality coffee and tasty snacks\", \" Starbucks provided a satisfying coffee experience with good pastries\", \" Starbucks consistently delivers good coffee and pastries\", \" The coffee was good, consistently brewed to perfection\", \" The coffee was good and consistently prepared\", \" Starbucks consistently serves good coffee and pastries\", \" Starbucks provided good, reliable coffee and pastries\", \" Starbucks consistently serves good coffee and pastries\", \" Starbucks' beverages were satisfying, with consistently good coffee and seasonal specials\", \" The coffee and pastries at Starbucks were good, consistently meeting expectations\", \" Starbucks consistently provides good coffee and tasty snacks\", \" Starbucks consistently serves enjoyable coffee and pastries\", \" Starbucks consistently serves good coffee and tasty snacks\", \" Starbucks consistently serves good coffee and pastries\", \" Starbucks offered good coffee and tasty snacks\", \" Starbucks consistently serves good coffee and pastries\", \" Starbucks consistently serves good coffee and snacks\", \" Starbucks provided a satisfying selection of coffee and pastries\", \" Starbucks consistently serves good coffee and tasty pastries\", \" Starbucks consistently serves good coffee and pastries\", \" Starbucks offers good coffee and a variety of enjoyable pastries\", \" Starbucks consistently serves good coffee and pastries\", \" Starbucks consistently serves good coffee and tasty snacks\", \" Starbucks provided good coffee and snacks with consistent quality\", \" Starbucks provides a consistently good coffee experience with a variety of options\", \" Starbucks offered good quality coffee and pastries\", \" Starbucks' food options were average, with pre-packaged sandwiches and pastries\"]}\n",
      "\u001b[32m**********************************************************************\u001b[0m\n",
      "\n",
      "--------------------------------------------------------------------------------\n",
      "\u001b[33mRestaurant Review agent\u001b[0m (to User):\n",
      "\n",
      "Here are some reviews for Starbucks:\n",
      "\n",
      "1. \"Starbucks consistently serves good coffee and tasty pastries.\"\n",
      "2. \"Both the food and service at Starbucks were great.\"\n",
      "3. \"Starbucks offers good coffee and a variety of enjoyable snacks.\"\n",
      "4. \"The coffee was good, consistently brewed to perfection.\"\n",
      "5. \"Starbucks' beverages were satisfying, with consistently good coffee and seasonal specials.\"\n",
      "6. \"Starbucks consistently provides good coffee and tasty snacks.\"\n",
      "7. \"Starbucks offers good coffee and a variety of enjoyable pastries.\"\n",
      "8. \"Starbucks provides a consistently good coffee experience with a variety of options.\"\n",
      "9. \"Starbucks' food options were average, with pre-packaged sandwiches and pastries.\"\n",
      "\n",
      "It seems like most reviews highlight the consistency of good coffee and tasty snacks/pastries at Starbucks. Some reviews also appreciate the variety of options available. However, one review mentioned that the food options were average, with pre-packaged sandwiches and pastries.\n",
      "\n",
      "--------------------------------------------------------------------------------\n"
     ]
    }
   ],
   "source": [
    "# Termination: use max_turns = 2\n",
    "chat_result = user_proxy.initiate_chat(restaurant_review_agent, message=\"Fetch reviews for Starbucks.\", max_turns=2)"
   ]
  },
  {
   "cell_type": "code",
   "execution_count": 115,
   "id": "462930fb-2c98-4393-b659-15524b901ce3",
   "metadata": {},
   "outputs": [],
   "source": [
    "# Sequence patterns: https://microsoft.github.io/autogen/0.2/docs/tutorial/conversation-patterns\n",
    "FOODSCORE_AGENT_PROMPT = \"\"\"\n",
    "You are an helpful AI Assistant, with the ability to analyze and rate (from 1 to 5) the food service at a restaurant given the reviews.\n",
    "Use the following table:\n",
    "Score 1/5 has one of these adjectives: awful, horrible, or disgusting.\n",
    "Score 2/5 has one of these adjectives: bad, unpleasant, or offensive.\n",
    "Score 3/5 has one of these adjectives: average, uninspiring, or forgettable.\n",
    "Score 4/5 has one of these adjectives: good, enjoyable, or satisfying.\n",
    "Score 5/5 has one of these adjectives: awesome, incredible, or amazing.\n",
    "Given a review, use the above table to output a rating as an integer. Only output the integer and nothing else.\n",
    "\"\"\"\n",
    "\n",
    "food_score_agent = ConversableAgent(\"Food Score agent\",\n",
    "    system_message=FOODSCORE_AGENT_PROMPT,\n",
    "    llm_config={\"config_list\": [{\"model\": \"gpt-4\", \"temperature\": 0.9, \"api_key\": os.environ.get(\"OPENAI_API_KEY\")}]},\n",
    "    human_input_mode=\"NEVER\",  # Never ask for human input.\n",
    ")"
   ]
  },
  {
   "cell_type": "code",
   "execution_count": 73,
   "id": "12b8259e-1b8d-4f87-a62d-35d178f4a253",
   "metadata": {},
   "outputs": [
    {
     "name": "stdout",
     "output_type": "stream",
     "text": [
      "\u001b[34m\n",
      "********************************************************************************\u001b[0m\n",
      "\u001b[34mStarting a new chat....\u001b[0m\n",
      "\u001b[34m\n",
      "********************************************************************************\u001b[0m\n",
      "\u001b[33mUser\u001b[0m (to Restaurant Review agent):\n",
      "\n",
      "Whats the overall score for Starbucks ?\n",
      "\n",
      "--------------------------------------------------------------------------------\n",
      "\u001b[33mRestaurant Review agent\u001b[0m (to User):\n",
      "\n",
      "\u001b[32m***** Suggested tool call (call_mydGs6sdB1erl0if7eHiPCFW): fetch_restaurant_reviews *****\u001b[0m\n",
      "Arguments: \n",
      "{\n",
      "  \"restaurant_name\": \"Starbucks\"\n",
      "}\n",
      "\u001b[32m*****************************************************************************************\u001b[0m\n",
      "\n",
      "--------------------------------------------------------------------------------\n",
      "\u001b[35m\n",
      ">>>>>>>> EXECUTING FUNCTION fetch_restaurant_reviews...\u001b[0m\n",
      "\u001b[33mUser\u001b[0m (to Restaurant Review agent):\n",
      "\n",
      "\u001b[33mUser\u001b[0m (to Restaurant Review agent):\n",
      "\n",
      "\u001b[32m***** Response from calling tool (call_mydGs6sdB1erl0if7eHiPCFW) *****\u001b[0m\n",
      "{\"Starbucks\": [\" Starbucks consistently serves good coffee and tasty pastries\", \" The coffee was good and consistently prepared\", \" Starbucks consistently delivers good coffee and pastries\", \" Starbucks consistently serves good coffee and tasty pastries\", \" Both the food and service at Starbucks were great\", \" Starbucks consistently serves good coffee and tasty snacks\", \" Starbucks consistently delivers good coffee and pastries\", \" Starbucks offers good coffee and a variety of enjoyable snacks\", \" Starbucks consistently delivers good coffee and snacks\", \" Starbucks provided good quality coffee and pastries\", \" Starbucks consistently serves enjoyable coffee and pastries\", \" Starbucks consistently serves good coffee and pastries\", \" Starbucks consistently serves good coffee and snacks\", \" Starbucks provided good quality coffee and tasty snacks\", \" Starbucks provided a satisfying coffee experience with good pastries\", \" Starbucks consistently delivers good coffee and pastries\", \" The coffee was good, consistently brewed to perfection\", \" The coffee was good and consistently prepared\", \" Starbucks consistently serves good coffee and pastries\", \" Starbucks provided good, reliable coffee and pastries\", \" Starbucks consistently serves good coffee and pastries\", \" Starbucks' beverages were satisfying, with consistently good coffee and seasonal specials\", \" The coffee and pastries at Starbucks were good, consistently meeting expectations\", \" Starbucks consistently provides good coffee and tasty snacks\", \" Starbucks consistently serves enjoyable coffee and pastries\", \" Starbucks consistently serves good coffee and tasty snacks\", \" Starbucks consistently serves good coffee and pastries\", \" Starbucks offered good coffee and tasty snacks\", \" Starbucks consistently serves good coffee and pastries\", \" Starbucks consistently serves good coffee and snacks\", \" Starbucks provided a satisfying selection of coffee and pastries\", \" Starbucks consistently serves good coffee and tasty pastries\", \" Starbucks consistently serves good coffee and pastries\", \" Starbucks offers good coffee and a variety of enjoyable pastries\", \" Starbucks consistently serves good coffee and pastries\", \" Starbucks consistently serves good coffee and tasty snacks\", \" Starbucks provided good coffee and snacks with consistent quality\", \" Starbucks provides a consistently good coffee experience with a variety of options\", \" Starbucks offered good quality coffee and pastries\", \" Starbucks' food options were average, with pre-packaged sandwiches and pastries\"]}\n",
      "\u001b[32m**********************************************************************\u001b[0m\n",
      "\n",
      "--------------------------------------------------------------------------------\n",
      "\u001b[33mRestaurant Review agent\u001b[0m (to User):\n",
      "\n",
      "Based on the reviews, Starbucks consistently serves good coffee and tasty pastries, with customers often mentioning the consistency and quality of the coffee. The food was also well received, though there were comments that this was average, mainly consisting of pre-packaged sandwiches and pastries. \n",
      "\n",
      "Considering all these factors, I would give Starbucks an overall score of 8 out of 10. This rating is due to the consistently mentioned good quality and satisfaction with the coffee, but is somewhat brought down by the average rating of the food options.\n",
      "\n",
      "\n",
      "--------------------------------------------------------------------------------\n",
      "\u001b[34m\n",
      "********************************************************************************\u001b[0m\n",
      "\u001b[34mStarting a new chat....\u001b[0m\n",
      "\u001b[34m\n",
      "********************************************************************************\u001b[0m\n",
      "\u001b[33mUser\u001b[0m (to Food Score agent):\n",
      "\n",
      "Given these reviews, generate a score for the food.\n",
      "Context: \n",
      "Based on the reviews, Starbucks consistently serves good coffee and tasty pastries, with customers often mentioning the consistency and quality of the coffee. The food was also well received, though there were comments that this was average, mainly consisting of pre-packaged sandwiches and pastries. \n",
      "\n",
      "Considering all these factors, I would give Starbucks an overall score of 8 out of 10. This rating is due to the consistently mentioned good quality and satisfaction with the coffee, but is somewhat brought down by the average rating of the food options.\n",
      "\n",
      "\n",
      "--------------------------------------------------------------------------------\n",
      "\u001b[33mFood Score agent\u001b[0m (to User):\n",
      "\n",
      "4\n",
      "\n",
      "--------------------------------------------------------------------------------\n"
     ]
    }
   ],
   "source": [
    "chat_result = user_proxy.initiate_chats(\n",
    "[\n",
    "        {\n",
    "            \"recipient\": restaurant_review_agent,\n",
    "            \"message\": \"Whats the overall score for Starbucks ?\",\n",
    "            \"max_turns\": 2,\n",
    "            \"summary_method\": \"last_msg\",\n",
    "        },\n",
    "        {\n",
    "            \"recipient\": food_score_agent,\n",
    "            \"message\": \"Given these reviews, generate a score for the food.\",\n",
    "            \"max_turns\": 1,\n",
    "            \"summary_method\": \"last_msg\",\n",
    "        },\n",
    "])"
   ]
  },
  {
   "cell_type": "code",
   "execution_count": 90,
   "id": "04c1c240-5fc5-450b-8821-7ae25e80e4b6",
   "metadata": {},
   "outputs": [],
   "source": [
    "# Sequence patterns: https://microsoft.github.io/autogen/0.2/docs/tutorial/conversation-patterns\n",
    "REVIEWSCORE_AGENT_PROMPT = \"\"\"\n",
    "You are an helpful AI Assistant, with the ability to analyze and rate (from 1 to 5) the food service and customer service at a restaurant given the reviews.\n",
    "Use the following table:\n",
    "Score 1/5 has one of these adjectives: awful, horrible, or disgusting.\n",
    "Score 2/5 has one of these adjectives: bad, unpleasant, or offensive.\n",
    "Score 3/5 has one of these adjectives: average, uninspiring, or forgettable.\n",
    "Score 4/5 has one of these adjectives: good, enjoyable, or satisfying.\n",
    "Score 5/5 has one of these adjectives: awesome, incredible, or amazing.\n",
    "Given a list of individual reviews, use the above table to output a rating as an integer along with the review. Output one integer each separately for food service and one for\n",
    "customer service. Provide your output as a list of tuples (x,y, z) where x is the food service rating and y is the customer service rating for the review z.\n",
    "\"\"\"\n",
    "\n",
    "review_score_agent = ConversableAgent(\"Review Score agent\",\n",
    "    system_message=REVIEWSCORE_AGENT_PROMPT,\n",
    "    llm_config={\"config_list\": [{\"model\": \"gpt-4\", \"temperature\": 0.9, \"api_key\": os.environ.get(\"OPENAI_API_KEY\")}]},\n",
    "    human_input_mode=\"NEVER\",  # Never ask for human input.\n",
    ")\n"
   ]
  },
  {
   "cell_type": "code",
   "execution_count": 91,
   "id": "eee45a91-8821-489d-aaf0-3f72584e6046",
   "metadata": {},
   "outputs": [
    {
     "name": "stdout",
     "output_type": "stream",
     "text": [
      "\u001b[34m\n",
      "********************************************************************************\u001b[0m\n",
      "\u001b[34mStarting a new chat....\u001b[0m\n",
      "\u001b[34m\n",
      "********************************************************************************\u001b[0m\n",
      "\u001b[33mUser\u001b[0m (to Restaurant Review agent):\n",
      "\n",
      "Whats the overall score for Starbucks ?\n",
      "\n",
      "--------------------------------------------------------------------------------\n",
      "\u001b[33mRestaurant Review agent\u001b[0m (to User):\n",
      "\n",
      "\u001b[32m***** Suggested tool call (call_MS1CYsivOetITdyDB5L5Ce48): fetch_restaurant_reviews *****\u001b[0m\n",
      "Arguments: \n",
      "{\n",
      "  \"restaurant_name\": \"Starbucks\"\n",
      "}\n",
      "\u001b[32m*****************************************************************************************\u001b[0m\n",
      "\n",
      "--------------------------------------------------------------------------------\n",
      "\u001b[35m\n",
      ">>>>>>>> EXECUTING FUNCTION fetch_restaurant_reviews...\u001b[0m\n",
      "\u001b[33mUser\u001b[0m (to Restaurant Review agent):\n",
      "\n",
      "\u001b[33mUser\u001b[0m (to Restaurant Review agent):\n",
      "\n",
      "\u001b[32m***** Response from calling tool (call_MS1CYsivOetITdyDB5L5Ce48) *****\u001b[0m\n",
      "{\"Starbucks\": [\" Starbucks consistently serves good coffee and tasty pastries\", \" The coffee was good and consistently prepared\", \" Starbucks consistently delivers good coffee and pastries\", \" Starbucks consistently serves good coffee and tasty pastries\", \" Both the food and service at Starbucks were great\", \" Starbucks consistently serves good coffee and tasty snacks\", \" Starbucks consistently delivers good coffee and pastries\", \" Starbucks offers good coffee and a variety of enjoyable snacks\", \" Starbucks consistently delivers good coffee and snacks\", \" Starbucks provided good quality coffee and pastries\", \" Starbucks consistently serves enjoyable coffee and pastries\", \" Starbucks consistently serves good coffee and pastries\", \" Starbucks consistently serves good coffee and snacks\", \" Starbucks provided good quality coffee and tasty snacks\", \" Starbucks provided a satisfying coffee experience with good pastries\", \" Starbucks consistently delivers good coffee and pastries\", \" The coffee was good, consistently brewed to perfection\", \" The coffee was good and consistently prepared\", \" Starbucks consistently serves good coffee and pastries\", \" Starbucks provided good, reliable coffee and pastries\", \" Starbucks consistently serves good coffee and pastries\", \" Starbucks' beverages were satisfying, with consistently good coffee and seasonal specials\", \" The coffee and pastries at Starbucks were good, consistently meeting expectations\", \" Starbucks consistently provides good coffee and tasty snacks\", \" Starbucks consistently serves enjoyable coffee and pastries\", \" Starbucks consistently serves good coffee and tasty snacks\", \" Starbucks consistently serves good coffee and pastries\", \" Starbucks offered good coffee and tasty snacks\", \" Starbucks consistently serves good coffee and pastries\", \" Starbucks consistently serves good coffee and snacks\", \" Starbucks provided a satisfying selection of coffee and pastries\", \" Starbucks consistently serves good coffee and tasty pastries\", \" Starbucks consistently serves good coffee and pastries\", \" Starbucks offers good coffee and a variety of enjoyable pastries\", \" Starbucks consistently serves good coffee and pastries\", \" Starbucks consistently serves good coffee and tasty snacks\", \" Starbucks provided good coffee and snacks with consistent quality\", \" Starbucks provides a consistently good coffee experience with a variety of options\", \" Starbucks offered good quality coffee and pastries\", \" Starbucks' food options were average, with pre-packaged sandwiches and pastries\"]}\n",
      "\u001b[32m**********************************************************************\u001b[0m\n",
      "\n",
      "--------------------------------------------------------------------------------\n",
      "\u001b[33mRestaurant Review agent\u001b[0m (to User):\n",
      "\n",
      "Here are some reviews for Starbucks:\n",
      "\n",
      "1. \"Starbucks consistently serves good coffee and tasty pastries\"\n",
      "2. \"The coffee was good and consistently prepared\"\n",
      "3. \"Starbucks consistently delivers good coffee and pastries\"\n",
      "4. \"Both the food and service at Starbucks were great\"\n",
      "5. \"Starbucks consistently serves good coffee and tasty snacks\"\n",
      "6. \"Starbucks offers good coffee and a variety of enjoyable snacks\"\n",
      "7. \"Starbucks provided good quality coffee and pastries\"\n",
      "8. \"Starbucks provided a satisfying coffee experience with good pastries\"\n",
      "9. \"The coffee was good, consistently brewed to perfection\"\n",
      "10. \"Starbucks' beverages were satisfying, with consistently good coffee and seasonal specials\"\n",
      "11. \"The coffee and pastries at Starbucks were good, consistently meeting expectations\"\n",
      "12. \"Starbucks offered good coffee and tasty snacks\"\n",
      "13. \"Starbucks provided a satisfying selection of coffee and pastries\"\n",
      "14. \"Starbucks provides a consistently good coffee experience with a variety of options\"\n",
      "15. \"Starbucks offered good quality coffee and pastries\"\n",
      "16. \"Starbucks' food options were average, with pre-packaged sandwiches and pastries\"\n",
      "\n",
      "--------------------------------------------------------------------------------\n",
      "\u001b[34m\n",
      "********************************************************************************\u001b[0m\n",
      "\u001b[34mStarting a new chat....\u001b[0m\n",
      "\u001b[34m\n",
      "********************************************************************************\u001b[0m\n",
      "\u001b[33mUser\u001b[0m (to Review Score agent):\n",
      "\n",
      "Given these reviews, generate separate scores for the food and customer service.\n",
      "Context: \n",
      "Here are some reviews for Starbucks:\n",
      "\n",
      "1. \"Starbucks consistently serves good coffee and tasty pastries\"\n",
      "2. \"The coffee was good and consistently prepared\"\n",
      "3. \"Starbucks consistently delivers good coffee and pastries\"\n",
      "4. \"Both the food and service at Starbucks were great\"\n",
      "5. \"Starbucks consistently serves good coffee and tasty snacks\"\n",
      "6. \"Starbucks offers good coffee and a variety of enjoyable snacks\"\n",
      "7. \"Starbucks provided good quality coffee and pastries\"\n",
      "8. \"Starbucks provided a satisfying coffee experience with good pastries\"\n",
      "9. \"The coffee was good, consistently brewed to perfection\"\n",
      "10. \"Starbucks' beverages were satisfying, with consistently good coffee and seasonal specials\"\n",
      "11. \"The coffee and pastries at Starbucks were good, consistently meeting expectations\"\n",
      "12. \"Starbucks offered good coffee and tasty snacks\"\n",
      "13. \"Starbucks provided a satisfying selection of coffee and pastries\"\n",
      "14. \"Starbucks provides a consistently good coffee experience with a variety of options\"\n",
      "15. \"Starbucks offered good quality coffee and pastries\"\n",
      "16. \"Starbucks' food options were average, with pre-packaged sandwiches and pastries\"\n",
      "\n",
      "--------------------------------------------------------------------------------\n",
      "\u001b[33mReview Score agent\u001b[0m (to User):\n",
      "\n",
      "Here are the scores:\n",
      "\n",
      "1. (4, 0, \"Starbucks consistently serves good coffee and tasty pastries\")\n",
      "2. (4, 0, \"The coffee was good and consistently prepared\")\n",
      "3. (4, 0, \"Starbucks consistently delivers good coffee and pastries\")\n",
      "4. (4, 4, \"Both the food and service at Starbucks were great\")\n",
      "5. (4, 0, \"Starbucks consistently serves good coffee and tasty snacks\")\n",
      "6. (4, 0, \"Starbucks offers good coffee and a variety of enjoyable snacks\")\n",
      "7. (4, 0, \"Starbucks provided good quality coffee and pastries\")\n",
      "8. (4, 0, \"Starbucks provided a satisfying coffee experience with good pastries\")\n",
      "9. (4, 0, \"The coffee was good, consistently brewed to perfection\")\n",
      "10. (4, 0, \"Starbucks' beverages were satisfying, with consistently good coffee and seasonal specials\")\n",
      "11. (4, 0, \"The coffee and pastries at Starbucks were good, consistently meeting expectations\")\n",
      "12. (4, 0, \"Starbucks offered good coffee and tasty snacks\")\n",
      "13. (4, 0, \"Starbucks provided a satisfying selection of coffee and pastries\")\n",
      "14. (4, 0, \"Starbucks provides a consistently good coffee experience with a variety of options\")\n",
      "15. (4, 0, \"Starbucks offered good quality coffee and pastries\")\n",
      "16. (3, 0, \"Starbucks' food options were average, with pre-packaged sandwiches and pastries\")\n",
      "\n",
      "--------------------------------------------------------------------------------\n"
     ]
    }
   ],
   "source": [
    "chat_result = user_proxy.initiate_chats(\n",
    "[\n",
    "        {\n",
    "            \"recipient\": restaurant_review_agent,\n",
    "            \"message\": \"Whats the overall score for Starbucks ?\",\n",
    "            \"max_turns\": 2,\n",
    "            \"summary_method\": \"last_msg\",\n",
    "        },\n",
    "        {\n",
    "            \"recipient\": review_score_agent,\n",
    "            \"message\": \"Given these reviews, generate separate scores for the food and customer service.\",\n",
    "            \"max_turns\": 1,\n",
    "            \"summary_method\": \"last_msg\",\n",
    "        },\n",
    "])"
   ]
  },
  {
   "cell_type": "code",
   "execution_count": null,
   "id": "825c1a3d-5ca6-45a8-af17-eea0d0f41a5a",
   "metadata": {},
   "outputs": [],
   "source": []
  },
  {
   "cell_type": "code",
   "execution_count": null,
   "id": "979483d6-ed94-48a7-adcc-aeb9fdbcf9dd",
   "metadata": {},
   "outputs": [],
   "source": []
  }
 ],
 "metadata": {
  "kernelspec": {
   "display_name": "Python 3 (ipykernel)",
   "language": "python",
   "name": "python3"
  },
  "language_info": {
   "codemirror_mode": {
    "name": "ipython",
    "version": 3
   },
   "file_extension": ".py",
   "mimetype": "text/x-python",
   "name": "python",
   "nbconvert_exporter": "python",
   "pygments_lexer": "ipython3",
   "version": "3.11.1"
  }
 },
 "nbformat": 4,
 "nbformat_minor": 5
}
